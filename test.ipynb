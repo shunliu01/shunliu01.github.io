{
 "cells": [
  {
   "cell_type": "code",
   "execution_count": null,
   "metadata": {},
   "outputs": [],
   "source": [
    "import numpy as np\n",
    "from time import time"
   ]
  },
  {
   "cell_type": "code",
   "execution_count": 19,
   "metadata": {},
   "outputs": [],
   "source": [
    "# 小写字母/数字\n",
    "ss = [\"ddd2dda\", \"45456\", \"!!00a00!!\", \"1\", \"0011\"]\n",
    "# target: 5 最长回文\n",
    "\n",
    "def isp(s:str):\n",
    "    return s == s[::-1]\n",
    "\n",
    "# O(n^3)\n",
    "def longestP(s: str):\n",
    "    if not s:\n",
    "        return 0\n",
    "    n = len(s)\n",
    "    max_len = 0\n",
    "    st = 0\n",
    "\n",
    "    for i in range(n):\n",
    "        for j in range(i, n):\n",
    "            if isp(s[i:j+1]) and (j-i+1) > max_len:\n",
    "                max_len = max(max_len, j-i+1)\n",
    "                st = i\n",
    "    return s[st:st+max_len]\n",
    "\n",
    "# O(n^2)\n",
    "def betterlongestP(s: str):\n",
    "    n = len(s)\n",
    "    # 特判\n",
    "    if not s or n == 1:\n",
    "        return 0\n",
    "    \n",
    "    # 情况一：XXXiXXX\n",
    "    # 情况二：XXXiiXXX\n",
    "    def expand(l, r):\n",
    "        while l >= 0 and r < n and s[l] == s[r]:\n",
    "            l -= 1\n",
    "            r += 1\n",
    "        return s[l + 1: r]\n",
    "    \n",
    "    max_p = \"\"\n",
    "    # 枚举\n",
    "    for i in range(n):\n",
    "        expand_1 = expand(i, i)\n",
    "        expand_2 = expand(i, i+1)\n",
    "        max_p = max(max_p, expand_1, expand_2, key=len)\n",
    "    return max_p"
   ]
  },
  {
   "cell_type": "code",
   "execution_count": 20,
   "metadata": {},
   "outputs": [
    {
     "name": "stdout",
     "output_type": "stream",
     "text": [
      "Longest Similar Substring of ddd2dda is dd2dd\n",
      "(Optimized) Longest Similar Substring of ddd2dda is dd2dd\n",
      "Longest Similar Substring of 45456 is 454\n",
      "(Optimized) Longest Similar Substring of 45456 is 454\n",
      "Longest Similar Substring of !!00a00!! is !!00a00!!\n",
      "(Optimized) Longest Similar Substring of !!00a00!! is !!00a00!!\n",
      "Longest Similar Substring of 1 is 1\n",
      "(Optimized) Longest Similar Substring of 1 is 0\n",
      "Longest Similar Substring of 0011 is 00\n",
      "(Optimized) Longest Similar Substring of 0011 is 00\n"
     ]
    }
   ],
   "source": [
    "for s in ss:\n",
    "    print(f\"Longest Similar Substring of {s} is {longestP(s)}\")\n",
    "    print(f\"(Optimized) Longest Similar Substring of {s} is {betterlongestP(s)}\")"
   ]
  },
  {
   "cell_type": "code",
   "execution_count": null,
   "metadata": {},
   "outputs": [],
   "source": []
  }
 ],
 "metadata": {
  "kernelspec": {
   "display_name": "base",
   "language": "python",
   "name": "python3"
  },
  "language_info": {
   "codemirror_mode": {
    "name": "ipython",
    "version": 3
   },
   "file_extension": ".py",
   "mimetype": "text/x-python",
   "name": "python",
   "nbconvert_exporter": "python",
   "pygments_lexer": "ipython3",
   "version": "3.11.5"
  }
 },
 "nbformat": 4,
 "nbformat_minor": 2
}
